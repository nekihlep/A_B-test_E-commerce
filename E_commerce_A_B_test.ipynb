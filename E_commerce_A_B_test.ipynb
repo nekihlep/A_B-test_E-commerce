{
  "nbformat": 4,
  "nbformat_minor": 0,
  "metadata": {
    "colab": {
      "provenance": []
    },
    "kernelspec": {
      "name": "python3",
      "display_name": "Python 3"
    },
    "language_info": {
      "name": "python"
    }
  },
  "cells": [
    {
      "cell_type": "markdown",
      "source": [
        "Импорт необходимых библиотек"
      ],
      "metadata": {
        "id": "ieEwVYwmIelQ"
      }
    },
    {
      "cell_type": "code",
      "source": [
        "import pandas as pd\n",
        "import numpy as np  # Для математических операций\n",
        "import matplotlib.pyplot as plt  # Для визуализации\n",
        "from scipy.stats import norm  # Для работы с нормальным распределением\n",
        "from statsmodels.stats.proportion import proportions_ztest  # Для Z-теста"
      ],
      "metadata": {
        "id": "ab1g7v4oIjdo"
      },
      "execution_count": null,
      "outputs": []
    },
    {
      "cell_type": "markdown",
      "source": [
        "Загрузка данных из CSV-файла"
      ],
      "metadata": {
        "id": "bue9FL_ZIzdi"
      }
    },
    {
      "cell_type": "code",
      "source": [
        "df = pd.read_csv('ab_data.csv')"
      ],
      "metadata": {
        "id": "gGqaA44TI09Q"
      },
      "execution_count": null,
      "outputs": []
    },
    {
      "cell_type": "markdown",
      "source": [
        "Проверка данных на пропущенные значения"
      ],
      "metadata": {
        "id": "2t7sbBDTI_9o"
      }
    },
    {
      "cell_type": "code",
      "source": [
        "print(df.isnull().sum())"
      ],
      "metadata": {
        "colab": {
          "base_uri": "https://localhost:8080/"
        },
        "id": "mYLHIVG4I58E",
        "outputId": "042b3ee0-7528-4a9c-a4bf-944aab0cdb3b"
      },
      "execution_count": null,
      "outputs": [
        {
          "output_type": "stream",
          "name": "stdout",
          "text": [
            "user_id         0\n",
            "timestamp       0\n",
            "group           0\n",
            "landing_page    0\n",
            "converted       0\n",
            "dtype: int64\n"
          ]
        }
      ]
    },
    {
      "cell_type": "markdown",
      "source": [
        "Проверка на дубликаты"
      ],
      "metadata": {
        "id": "mwLx6ubtJEvT"
      }
    },
    {
      "cell_type": "code",
      "source": [
        "print(df.duplicated().sum())"
      ],
      "metadata": {
        "colab": {
          "base_uri": "https://localhost:8080/"
        },
        "id": "gATGQkiAJIS0",
        "outputId": "c1211405-4b8d-4aec-dee6-b22e50f6426d"
      },
      "execution_count": null,
      "outputs": [
        {
          "output_type": "stream",
          "name": "stdout",
          "text": [
            "0\n"
          ]
        }
      ]
    },
    {
      "cell_type": "markdown",
      "source": [
        "Распределение пользователей по группам"
      ],
      "metadata": {
        "id": "5PEkPSJqKJHN"
      }
    },
    {
      "cell_type": "code",
      "source": [
        "print(\"\\nРаспределение по группам:\")\n",
        "value_counts=df['group'].value_counts()\n",
        "print(value_counts)"
      ],
      "metadata": {
        "colab": {
          "base_uri": "https://localhost:8080/"
        },
        "id": "0gpYMn92KMb2",
        "outputId": "6e9bf5dd-9f58-45f3-fcad-2969a3348946"
      },
      "execution_count": null,
      "outputs": [
        {
          "output_type": "stream",
          "name": "stdout",
          "text": [
            "\n",
            "Распределение по группам:\n",
            "group\n",
            "treatment    147276\n",
            "control      147202\n",
            "Name: count, dtype: int64\n"
          ]
        }
      ]
    },
    {
      "cell_type": "markdown",
      "source": [
        "Разделение данных на контрольную и тестовую группы"
      ],
      "metadata": {
        "id": "PIDq9S6kKP1E"
      }
    },
    {
      "cell_type": "code",
      "source": [
        "group_a = df[df['group'] == 'control']\n",
        "group_b = df[df['group'] == 'treatment']"
      ],
      "metadata": {
        "id": "5BHhR4QpKTdO"
      },
      "execution_count": null,
      "outputs": []
    },
    {
      "cell_type": "markdown",
      "source": [
        "Расчет конверсии для каждой группы (в процентах)"
      ],
      "metadata": {
        "id": "kJdH1J1BKWlf"
      }
    },
    {
      "cell_type": "code",
      "source": [
        "conversion_a = group_a['converted'].mean() * 100\n",
        "conversion_b = group_b['converted'].mean() * 100"
      ],
      "metadata": {
        "id": "IM2iz6GpKZrE"
      },
      "execution_count": null,
      "outputs": []
    },
    {
      "cell_type": "markdown",
      "source": [
        "Размеры групп"
      ],
      "metadata": {
        "id": "i9_0W5xcKcHo"
      }
    },
    {
      "cell_type": "code",
      "source": [
        "n1 = len(group_a)\n",
        "n2 = len(group_b)"
      ],
      "metadata": {
        "id": "-Jnq773BKenv"
      },
      "execution_count": null,
      "outputs": []
    },
    {
      "cell_type": "markdown",
      "source": [
        "Количество конверсий в каждой группе"
      ],
      "metadata": {
        "id": "tjpPem3VKgpb"
      }
    },
    {
      "cell_type": "code",
      "source": [
        "x1 = group_a['converted'].sum()\n",
        "x2 = group_b['converted'].sum()"
      ],
      "metadata": {
        "id": "vUOj18eaKjmL"
      },
      "execution_count": null,
      "outputs": []
    },
    {
      "cell_type": "markdown",
      "source": [
        "Объединенная доля конверсий"
      ],
      "metadata": {
        "id": "5Mp_ik-CKqUj"
      }
    },
    {
      "cell_type": "code",
      "source": [
        "p= (x1 + x2) / (n1 + n2)"
      ],
      "metadata": {
        "id": "zbFyfmRoKtS9"
      },
      "execution_count": null,
      "outputs": []
    },
    {
      "cell_type": "markdown",
      "source": [
        "Расчет Z-статистики вручную по формуле"
      ],
      "metadata": {
        "id": "lmKiiJwhKvjy"
      }
    },
    {
      "cell_type": "code",
      "source": [
        "z_test =(conversion_a/100 -conversion_b/100) / (numpy.sqrt((p* (1 - p) * (1/n1 + 1/n2) )))"
      ],
      "metadata": {
        "id": "4AS2CJqCK0TV"
      },
      "execution_count": null,
      "outputs": []
    },
    {
      "cell_type": "markdown",
      "source": [
        "Расчет p-value (двусторонний тест)"
      ],
      "metadata": {
        "id": "c-DkPFujK2Qr"
      }
    },
    {
      "cell_type": "code",
      "source": [
        "p_value = 2 * (1 - norm.cdf(abs(z_test)))"
      ],
      "metadata": {
        "id": "nKl1SdILK4ed"
      },
      "execution_count": null,
      "outputs": []
    },
    {
      "cell_type": "markdown",
      "source": [
        "Вывод результатов"
      ],
      "metadata": {
        "id": "ifb4c4a1K9C2"
      }
    },
    {
      "cell_type": "code",
      "source": [
        "p_value = 2 * (1 - norm.cdf(abs(z_test)))\n",
        "print(f\"Конверсия в A: {conversion_a:.2f}%\")\n",
        "print(f\"Конверсия в B: {conversion_b:.2f}%\")\n",
        "print()\n",
        "print(f\"Объединённая доля (p): {p:.4f}\")\n",
        "print(f\"Размеры групп: n1={n1}, n2={n2}\")\n",
        "print(f\"Z-статистика: {z_test:.3f}\")\n",
        "print (f\"p_value: {p_value:.4f}\")"
      ],
      "metadata": {
        "colab": {
          "base_uri": "https://localhost:8080/"
        },
        "id": "ECUjgmyvK_vw",
        "outputId": "b27f0f68-a369-487b-9edd-655efdb36c43"
      },
      "execution_count": null,
      "outputs": [
        {
          "output_type": "stream",
          "name": "stdout",
          "text": [
            "Конверсия в A: 12.04%\n",
            "Конверсия в B: 11.89%\n",
            "\n",
            "Объединённая доля (p): 0.1197\n",
            "Размеры групп: n1=147202, n2=147276\n",
            "Z-статистика: 1.237\n",
            "p_value: 0.2161\n"
          ]
        }
      ]
    },
    {
      "cell_type": "markdown",
      "source": [
        "Визуализация результатов"
      ],
      "metadata": {
        "id": "z4vtDlLULBrG"
      }
    },
    {
      "cell_type": "code",
      "source": [
        "groups = ['Control (A)', 'Treatment (B)']\n",
        "conversions = [round(conversion_a,2), round(conversion_b,2)]\n",
        "plt.figure(figsize=(8, 5))\n",
        "plt.bar(groups, conversions, color=['blue', 'green'], alpha=0.7)\n",
        "plt.errorbar(groups, conversions, fmt='none', color='black', capsize=10)\n",
        "plt.title('Conversion Rates with 95% Confidence Intervals')\n",
        "plt.ylabel('Conversion Rate (%)')\n",
        "plt.ylim(10, 13)\n",
        "\n",
        "for i, conv in enumerate(conversions):\n",
        "    plt.text(i, conv + 0.1, f\"{conv}%\", ha='center')\n",
        "\n",
        "plt.show()"
      ],
      "metadata": {
        "colab": {
          "base_uri": "https://localhost:8080/",
          "height": 468
        },
        "id": "cUOQGTlvLb2R",
        "outputId": "127c2853-83dd-4ef7-d051-d9fa0318c2d4"
      },
      "execution_count": null,
      "outputs": [
        {
          "output_type": "display_data",
          "data": {
            "text/plain": [
              "<Figure size 800x500 with 1 Axes>"
            ],
            "image/png": "[encoded data removed]"
          },
          "metadata": {}
        }
      ]
    },
    {
      "cell_type": "markdown",
      "source": [
        "Сохранение результатов в CSV-файл"
      ],
      "metadata": {
        "id": "Y3gMz3n_LI27"
      }
    },
    {
      "cell_type": "code",
      "source": [
        "results = pd.DataFrame({\n",
        "    'Metric': ['Conversion A', 'Conversion B', 'p-value', 'Total Users'],\n",
        "    'Value': [round(conversion_a,2),round(conversion_b,2) , p_value, len(df)]\n",
        "})\n",
        "results.to_csv('ab_test_results.csv', index=False)\n",
        "print(\"\\nРезультаты сохранены в файл 'ab_test_results.csv'\")"
      ],
      "metadata": {
        "colab": {
          "base_uri": "https://localhost:8080/"
        },
        "id": "shiBRG9lLLrA",
        "outputId": "ced628ec-2d23-4ed8-a9fc-fe9521133811"
      },
      "execution_count": null,
      "outputs": [
        {
          "output_type": "stream",
          "name": "stdout",
          "text": [
            "\n",
            "Результаты сохранены в файл 'ab_test_results.csv'\n"
          ]
        }
      ]
    },
    {
      "cell_type": "markdown",
      "source": [
        "**Отчет:**\n",
        "\n",
        "---\n",
        "\n",
        "\n",
        "Цель: Определить, увеличивает ли новая версия лендинга конверсию в покупку.\n",
        "Гипотеза: Конверсия в группе B (новая версия) будет выше на 2%.\n",
        "Датасет: E-commerce A/B Test (294,478 наблюдений): https://www.kaggle.com/datasets/zhangluyuan/ab-testing?resource\n",
        "\n",
        "Распределение групп:\n",
        "\n",
        "Контроль (A): 147,202 пользователей\n",
        "\n",
        "Тест (B): 147,276 пользователей\n",
        "\n",
        "Данные сбалансированны и нормальны (программа показала отсутсвие пустых значений, дубликатов и выбросов).\n",
        "\n",
        "Метрики:\n",
        "\n",
        "-CR для расчета конверсии в покупку;\n",
        "\n",
        "-p-value для понимания,насколько статистически значимы различия между двумя группами.\n",
        "\n",
        "Z-test используется по прчиине бинарности выборки.\n",
        "\n",
        "Результаты:\n",
        "\n",
        "Конверсия в A: 12.04%\n",
        "\n",
        "Конверсия в B: 11.89%\n",
        "\n",
        "Z-статистика: 1.237\n",
        "\n",
        "p_value: 0.2161\n",
        "\n",
        "\n",
        "---\n",
        "\n",
        "\n",
        "Вывод:\n",
        "Нет статистической значимости: p-value > 0.05 → разница могла возникнуть случайно.Абсолютная разница (0.15%) не имеет бизнес-ценности.Достоверность результатов:\n",
        "\n",
        "-большая выборка (>147k пользователей на группу);\n",
        "\n",
        "-чистые данные (без пропусков/дубликатов)\n",
        "\n",
        "-корректный метод анализа (Z-тест для бинарных данных)\n",
        "\n",
        "---\n",
        "\n",
        "\n",
        "\n",
        "Рекомендации: Отклонить новую версию лендинга -следует направить ресурсы на другие гипотезы\n",
        "\n"
      ],
      "metadata": {
        "id": "Vh7xDWgOLwrW"
      }
    }
  ]
}